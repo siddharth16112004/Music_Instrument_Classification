{
  "nbformat": 4,
  "nbformat_minor": 0,
  "metadata": {
    "colab": {
      "name": "Music_Instrument_prediction.ipynb",
      "provenance": [],
      "collapsed_sections": [],
      "toc_visible": true,
      "mount_file_id": "12goxbYfhTSWb9mebJyhkQy9xEeuFRJHj",
      "authorship_tag": "ABX9TyOlX0VuwU0TTr0Lq7N7zc3q",
      "include_colab_link": true
    },
    "kernelspec": {
      "name": "python3",
      "display_name": "Python 3"
    },
    "language_info": {
      "name": "python"
    },
    "accelerator": "GPU"
  },
  "cells": [
    {
      "cell_type": "markdown",
      "metadata": {
        "id": "view-in-github",
        "colab_type": "text"
      },
      "source": [
        "<a href=\"https://colab.research.google.com/github/anirudhs123/EE5180-Group-4/blob/main/Music_Instrument_prediction.ipynb\" target=\"_parent\"><img src=\"https://colab.research.google.com/assets/colab-badge.svg\" alt=\"Open In Colab\"/></a>"
      ]
    },
    {
      "cell_type": "markdown",
      "metadata": {
        "id": "8WiZ6hnbFroK"
      },
      "source": [
        "# Data Preparation"
      ]
    },
    {
      "cell_type": "code",
      "metadata": {
        "id": "8QGRrwPjFtNp",
        "colab": {
          "base_uri": "https://localhost:8080/"
        },
        "outputId": "9f29fe75-61c2-4c1d-b821-6924c53822e1"
      },
      "source": [
        "#Importing the required packages and libraries\n",
        "import os\n",
        "import librosa\n",
        "import pickle\n",
        "import numpy as np\n",
        "import pandas as pd\n",
        "import matplotlib.pyplot as plt\n",
        "import seaborn as sns\n",
        "from tqdm import tqdm\n",
        "\n",
        "!pip install python_speech_features\n",
        "from python_speech_features import mfcc\n",
        "\n",
        "from sklearn.preprocessing import LabelEncoder, OneHotEncoder\n",
        "from sklearn.model_selection import train_test_split\n",
        "from sklearn.metrics import confusion_matrix\n",
        "from keras.layers import Conv2D, MaxPool2D, Flatten, Dense, Dropout,LSTM,Concatenate,Activation,Input\n",
        "from keras.optimizers import Adam, RMSprop\n",
        "from keras.models import Model\n",
        "from keras.models import Sequential\n",
        "\n",
        "!pip install -q tensorflow-model-optimization\n",
        "import tensorflow as tf\n",
        "import tensorflow_model_optimization as tfmot\n",
        "from sklearn.metrics import accuracy_score,classification_report\n",
        "import tempfile"
      ],
      "execution_count": null,
      "outputs": [
        {
          "output_type": "stream",
          "text": [
            "Requirement already satisfied: python_speech_features in /usr/local/lib/python3.7/dist-packages (0.6)\n"
          ],
          "name": "stdout"
        }
      ]
    },
    {
      "cell_type": "code",
      "metadata": {
        "colab": {
          "base_uri": "https://localhost:8080/"
        },
        "id": "UTk1GSp3cOVz",
        "outputId": "49b4a2f6-31c1-4431-ac3d-b9833ab2f8cb"
      },
      "source": [
        "%cd /content/drive/My Drive/EEML_data/Instrument_classification_data\n",
        "#!unzip \\*.zip"
      ],
      "execution_count": null,
      "outputs": [
        {
          "output_type": "stream",
          "text": [
            "/content/drive/.shortcut-targets-by-id/1PjT1G82CmVhCm_zwGAqPNoFojg9HS9Oc/EEML_data/Instrument_classification_data\n"
          ],
          "name": "stdout"
        }
      ]
    },
    {
      "cell_type": "code",
      "metadata": {
        "id": "4YWVqwaCP_6F"
      },
      "source": [
        "df = pd.read_csv('train.csv')"
      ],
      "execution_count": null,
      "outputs": []
    },
    {
      "cell_type": "code",
      "metadata": {
        "id": "6liWtKbfF90S",
        "colab": {
          "base_uri": "https://localhost:8080/"
        },
        "outputId": "4490e571-f052-4743-f7a3-0d2acaf7651b"
      },
      "source": [
        "#Getting the counts if each classes in the dataset\n",
        "#Originally there are 41 classes\n",
        "df['label'].value_counts()"
      ],
      "execution_count": null,
      "outputs": [
        {
          "output_type": "execute_result",
          "data": {
            "text/plain": [
              "Snare_drum               300\n",
              "Hi-hat                   300\n",
              "Double_bass              300\n",
              "Fart                     300\n",
              "Applause                 300\n",
              "Squeak                   300\n",
              "Saxophone                300\n",
              "Bass_drum                300\n",
              "Tearing                  300\n",
              "Fireworks                300\n",
              "Trumpet                  300\n",
              "Clarinet                 300\n",
              "Shatter                  300\n",
              "Flute                    300\n",
              "Cello                    300\n",
              "Laughter                 300\n",
              "Violin_or_fiddle         300\n",
              "Acoustic_guitar          300\n",
              "Oboe                     299\n",
              "Gong                     292\n",
              "Knock                    279\n",
              "Writing                  270\n",
              "Cough                    243\n",
              "Bark                     239\n",
              "Tambourine               221\n",
              "Burping_or_eructation    210\n",
              "Cowbell                  191\n",
              "Harmonica                165\n",
              "Drawer_open_or_close     158\n",
              "Meow                     155\n",
              "Electric_piano           150\n",
              "Gunshot_or_gunfire       147\n",
              "Microwave_oven           146\n",
              "Keys_jangling            139\n",
              "Telephone                120\n",
              "Computer_keyboard        119\n",
              "Finger_snapping          117\n",
              "Chime                    115\n",
              "Bus                      109\n",
              "Scissors                  95\n",
              "Glockenspiel              94\n",
              "Name: label, dtype: int64"
            ]
          },
          "metadata": {
            "tags": []
          },
          "execution_count": 4
        }
      ]
    },
    {
      "cell_type": "code",
      "metadata": {
        "id": "AlV3ALNdQRZR"
      },
      "source": [
        "#Filtering out the Top 5 classes \n",
        "#Each class has 300 samples each\n",
        "df = df[df['label'].isin(['Cello','Saxophone','Acoustic_guitar','Double_bass', 'Clarinet'])]"
      ],
      "execution_count": null,
      "outputs": []
    },
    {
      "cell_type": "code",
      "metadata": {
        "colab": {
          "base_uri": "https://localhost:8080/",
          "height": 296
        },
        "id": "-C4rxC-6gSKZ",
        "outputId": "3680bb16-852f-4342-90bb-e39a7a0bafda"
      },
      "source": [
        "#Plot to show the distribution of classes individually\n",
        "plt.bar(np.unique(df['label'].values),df['label'].value_counts())\n",
        "plt.ylabel('Count')\n",
        "plt.xlabel('Instruments')\n",
        "plt.title('Count of instruments vs Type of Instruments')\n",
        "plt.show()"
      ],
      "execution_count": null,
      "outputs": [
        {
          "output_type": "display_data",
          "data": {
            "image/png": "[encoded data removed]",
            "text/plain": [
              "<Figure size 432x288 with 1 Axes>"
            ]
          },
          "metadata": {
            "tags": [],
            "needs_background": "light"
          }
        }
      ]
    },
    {
      "cell_type": "code",
      "metadata": {
        "id": "87OyK0HuYTPG",
        "colab": {
          "base_uri": "https://localhost:8080/"
        },
        "outputId": "ac3d329e-f109-450f-f828-3ced2100dfc4"
      },
      "source": [
        "#Collecting the Audio data from the .wav files\n",
        "#Librosa is used to directly load the .wav file into numy array format\n",
        "path = 'audio_train/'\n",
        "audio_data = list()\n",
        "for i in tqdm(range(df.shape[0])):\n",
        "    audio_data.append(librosa.load(path+df['fname'].iloc[i]))\n",
        "audio_data = np.array(audio_data)"
      ],
      "execution_count": null,
      "outputs": [
        {
          "output_type": "stream",
          "text": [
            "100%|██████████| 1500/1500 [17:41<00:00,  1.41it/s]\n",
            "/usr/local/lib/python3.7/dist-packages/ipykernel_launcher.py:7: VisibleDeprecationWarning: Creating an ndarray from ragged nested sequences (which is a list-or-tuple of lists-or-tuples-or ndarrays with different lengths or shapes) is deprecated. If you meant to do this, you must specify 'dtype=object' when creating the ndarray\n",
            "  import sys\n"
          ],
          "name": "stderr"
        }
      ]
    },
    {
      "cell_type": "code",
      "metadata": {
        "id": "mlkT42vXYc-O"
      },
      "source": [
        "#The audio data and corresponding Sample frequency is stored in the dataframe\n",
        "df['audio_waves'] = audio_data[:,0]\n",
        "df['samplerate'] = audio_data[:,1]"
      ],
      "execution_count": null,
      "outputs": []
    },
    {
      "cell_type": "code",
      "metadata": {
        "id": "VPPqUnppTP6t"
      },
      "source": [
        ""
      ],
      "execution_count": null,
      "outputs": []
    },
    {
      "cell_type": "code",
      "metadata": {
        "id": "U88xeXOJdc_r"
      },
      "source": [
        "#Bit lengths - Length of the sampled audio data \n",
        "#Second length- Length if the audio ins Seconds\n",
        "bit_lengths = list()\n",
        "for i in range(df.shape[0]):\n",
        "    bit_lengths.append(len(df['audio_waves'].iloc[i]))\n",
        "bit_lengths = np.array(bit_lengths)\n",
        "df['bit_lengths'] = bit_lengths\n",
        "df['seconds_length'] = df['bit_lengths']/df['samplerate']"
      ],
      "execution_count": null,
      "outputs": []
    },
    {
      "cell_type": "code",
      "metadata": {
        "id": "oCSCSBwMddHA"
      },
      "source": [
        "#Outlier Removal-I\n",
        "#We remove the parts of data with length of audio < 2 seconds\n",
        "#This is reasoned out because it is difficult for a model to learn/identify without sufficient second lengths\n",
        "df = df[df['seconds_length'] >= 2.0]"
      ],
      "execution_count": null,
      "outputs": []
    },
    {
      "cell_type": "code",
      "metadata": {
        "id": "SPbmFjbesUCl"
      },
      "source": [
        ""
      ],
      "execution_count": null,
      "outputs": []
    },
    {
      "cell_type": "code",
      "metadata": {
        "id": "BRf0KpXei47_",
        "colab": {
          "base_uri": "https://localhost:8080/"
        },
        "outputId": "07a25e11-1a6d-400e-b18c-bfea522f6279"
      },
      "source": [
        "#df['seconds_length'].max()\n",
        "#Identifying the Minnimum of length of Bits and Length in seconds of the audio data \n",
        "min_bits = np.min(df['bit_lengths'])\n",
        "print('Minimum Bit Length: {}'.format(min_bits))\n",
        "\n",
        "min_seconds = np.min(df['seconds_length'])\n",
        "print('Minimum Seconds length: {}'.format(min_seconds))"
      ],
      "execution_count": null,
      "outputs": [
        {
          "output_type": "stream",
          "text": [
            "Minimum Bit Length: 44100\n",
            "Minimum Seconds length: 2.0\n"
          ],
          "name": "stdout"
        }
      ]
    },
    {
      "cell_type": "code",
      "metadata": {
        "colab": {
          "base_uri": "https://localhost:8080/",
          "height": 295
        },
        "id": "7aqnj4EUh5R7",
        "outputId": "ab845579-1217-4275-bdd6-ec3980138b3e"
      },
      "source": [
        "plt.hist(df['seconds_length'])\n",
        "plt.title('Histogram of Duration of audio signals')\n",
        "plt.xlabel('Duration in (s)')\n",
        "#plt.grid()\n",
        "plt.show()"
      ],
      "execution_count": null,
      "outputs": [
        {
          "output_type": "display_data",
          "data": {
            "image/png": "[encoded data removed]",
            "text/plain": [
              "<Figure size 432x288 with 1 Axes>"
            ]
          },
          "metadata": {
            "tags": [],
            "needs_background": "light"
          }
        }
      ]
    },
    {
      "cell_type": "markdown",
      "metadata": {
        "id": "H1CSdGQNKyAp"
      },
      "source": [
        "# Data Preprocessing"
      ]
    },
    {
      "cell_type": "code",
      "metadata": {
        "colab": {
          "base_uri": "https://localhost:8080/"
        },
        "id": "WjEeHzf_ddZR",
        "outputId": "79a7d1d4-3ab1-4224-ee77-ee05ad46b48d"
      },
      "source": [
        "#Fenerating audio waves and setting up correspnding labels\n",
        "#Num samples to be generated is a hyper parameter\n",
        "\n",
        "num_samples = 6000\n",
        "generated_audio_waves = list()\n",
        "generated_audio_labels = list()\n",
        "for i in tqdm(range(num_samples)):\n",
        "    try:\n",
        "        chosen_file = np.random.choice(df['fname'].values)\n",
        "        chosen_initial = np.random.choice(np.arange(0,df[df['fname']==chosen_file]['bit_lengths'].values-min_bits))\n",
        "        generated_audio_waves.append(df[df['fname']==chosen_file]['audio_waves'].values[0][chosen_initial:chosen_initial+min_bits])\n",
        "        \n",
        "        generated_audio_labels.append(df[df['fname']==chosen_file]['label'].values)\n",
        "    except ValueError:\n",
        "        continue\n",
        "generated_audio_waves = np.array(generated_audio_waves)\n",
        "generated_audio_labels = np.array(generated_audio_labels)"
      ],
      "execution_count": null,
      "outputs": [
        {
          "output_type": "stream",
          "text": [
            "100%|██████████| 6000/6000 [00:10<00:00, 555.64it/s]\n"
          ],
          "name": "stderr"
        }
      ]
    },
    {
      "cell_type": "code",
      "metadata": {
        "id": "_naQjfe38ivq",
        "colab": {
          "base_uri": "https://localhost:8080/"
        },
        "outputId": "caeca582-44c4-43fa-dcee-1d9ffc80ba6a"
      },
      "source": [
        "#Converting the label names into Integers\n",
        "# ['Cello','Saxophone','Acoustic_guitar','Double_bass', 'Clarinet'] is converted into intergers from 0-4\n",
        "label_encoder = LabelEncoder()\n",
        "label_encoded = label_encoder.fit_transform(generated_audio_labels)\n",
        "\n",
        "label_encoded = label_encoded[:, np.newaxis]"
      ],
      "execution_count": null,
      "outputs": [
        {
          "output_type": "stream",
          "text": [
            "/usr/local/lib/python3.7/dist-packages/sklearn/preprocessing/_label.py:251: DataConversionWarning: A column-vector y was passed when a 1d array was expected. Please change the shape of y to (n_samples, ), for example using ravel().\n",
            "  y = column_or_1d(y, warn=True)\n"
          ],
          "name": "stderr"
        }
      ]
    },
    {
      "cell_type": "code",
      "metadata": {
        "id": "7c9T9_rD8kVx"
      },
      "source": [
        "#Converting the labels into one hot encoded form\n",
        "#This converts each label from its integer represntation to 1*5 vector form\n",
        "# Label 3 becomes - [0,0,0,1,0]\n",
        "one_hot_encoder = OneHotEncoder(sparse=False)\n",
        "one_hot_encoded = one_hot_encoder.fit_transform(label_encoded)"
      ],
      "execution_count": null,
      "outputs": []
    },
    {
      "cell_type": "code",
      "metadata": {
        "id": "bWCOlMiS8MIr"
      },
      "source": [
        "# with open('audio_df.pickle', 'rb') as f:\n",
        "#     df = pickle.load(f)"
      ],
      "execution_count": null,
      "outputs": []
    },
    {
      "cell_type": "code",
      "metadata": {
        "colab": {
          "base_uri": "https://localhost:8080/"
        },
        "id": "meTPeEp_eEZ_",
        "outputId": "78478774-0931-4e1d-9287-356d313a65f0"
      },
      "source": [
        "#Generating the MFCC features from the generated Audio waves data\n",
        "#We make use of the Python_speech_ features for conversion\n",
        "mfcc_features = list()\n",
        "for i in tqdm(range(len(generated_audio_waves))):\n",
        "    mfcc_features.append(mfcc(generated_audio_waves[i]))\n",
        "mfcc_features = np.array(mfcc_features)"
      ],
      "execution_count": null,
      "outputs": [
        {
          "output_type": "stream",
          "text": [
            "100%|██████████| 5976/5976 [00:45<00:00, 130.14it/s]\n"
          ],
          "name": "stderr"
        }
      ]
    },
    {
      "cell_type": "code",
      "metadata": {
        "colab": {
          "base_uri": "https://localhost:8080/"
        },
        "id": "i_hGuFGbebsS",
        "outputId": "9a6a8663-4fa0-4d2f-f6a0-9b8f13f5662e"
      },
      "source": [
        "print(generated_audio_waves.shape)\n",
        "print(mfcc_features.shape)"
      ],
      "execution_count": null,
      "outputs": [
        {
          "output_type": "stream",
          "text": [
            "(5976, 44100)\n",
            "(5976, 275, 13)\n"
          ],
          "name": "stdout"
        }
      ]
    },
    {
      "cell_type": "code",
      "metadata": {
        "colab": {
          "base_uri": "https://localhost:8080/",
          "height": 173
        },
        "id": "n8N6OmCSebvS",
        "outputId": "6a23613b-1493-48ad-d41a-f01383637daa"
      },
      "source": [
        "# Sample Plot of generated Audiowave data\n",
        "plt.figure(figsize=(12,2))\n",
        "plt.plot(generated_audio_waves[2])\n",
        "plt.title(generated_audio_labels[2])\n",
        "plt.show()"
      ],
      "execution_count": null,
      "outputs": [
        {
          "output_type": "display_data",
          "data": {
            "image/png": "[encoded data removed]",
            "text/plain": [
              "<Figure size 864x144 with 1 Axes>"
            ]
          },
          "metadata": {
            "tags": [],
            "needs_background": "light"
          }
        }
      ]
    },
    {
      "cell_type": "code",
      "metadata": {
        "colab": {
          "base_uri": "https://localhost:8080/",
          "height": 96
        },
        "id": "wGyYnGt8qez7",
        "outputId": "35b64e54-cdde-42ce-aa63-895237984e6c"
      },
      "source": [
        "#Sample plot of corresponding MFCC feature plot\n",
        "plt.figure(figsize=(12, 2))\n",
        "plt.imshow(mfcc_features[0].T, cmap='hot')\n",
        "plt.title(generated_audio_labels[0])\n",
        "plt.show()"
      ],
      "execution_count": null,
      "outputs": [
        {
          "output_type": "display_data",
          "data": {
            "image/png": "[encoded data removed]",
            "text/plain": [
              "<Figure size 864x144 with 1 Axes>"
            ]
          },
          "metadata": {
            "tags": [],
            "needs_background": "light"
          }
        }
      ]
    },
    {
      "cell_type": "code",
      "metadata": {
        "id": "agQLYYs0M9AA"
      },
      "source": [
        "#Forming the dependent and independent variables for model creation\n",
        "#X is the input to the model\n",
        "#y is expected output (Ground truth values) \n",
        "X = mfcc_features\n",
        "y = one_hot_encoded"
      ],
      "execution_count": null,
      "outputs": []
    },
    {
      "cell_type": "code",
      "metadata": {
        "id": "SwwZ3bYWeb8x"
      },
      "source": [
        "#Data scaling\n",
        "#Using Range scaling operation\n",
        "#This converts the input array values between [0,1]\n",
        "X = (X-X.min())/(X.max()-X.min())"
      ],
      "execution_count": null,
      "outputs": []
    },
    {
      "cell_type": "code",
      "metadata": {
        "id": "C1Ig56-zNLrz"
      },
      "source": [
        "#Splitting the data into train and test sets\n",
        "#Train- 0.8, Test -0.2\n",
        "#Random state is fixed to replicate the split in the data\n",
        "X_train, X_test, y_train, y_test = train_test_split(X, y, test_size=0.2, random_state=1)"
      ],
      "execution_count": null,
      "outputs": []
    },
    {
      "cell_type": "code",
      "metadata": {
        "id": "BlfWW0OveyzE"
      },
      "source": [
        "#Shape of the input data into the CNN model\n",
        "input_shape = (X_train.shape[1], X_train.shape[2], 1)"
      ],
      "execution_count": null,
      "outputs": []
    },
    {
      "cell_type": "code",
      "metadata": {
        "id": "k6fiWQB6ey6C"
      },
      "source": [
        "X_train = X_train.reshape(X_train.shape[0], X_train.shape[1], X_train.shape[2], 1)\n",
        "#print(X_train.shape)\n",
        "X_test = X_test.reshape(X_test.shape[0], X_test.shape[1], X_test.shape[2], 1)\n",
        "#print(X_test.shape)"
      ],
      "execution_count": null,
      "outputs": []
    },
    {
      "cell_type": "markdown",
      "metadata": {
        "id": "gfmcWaF-N0hX"
      },
      "source": [
        "# CNN Model"
      ]
    },
    {
      "cell_type": "code",
      "metadata": {
        "id": "ryqHBycmezAz"
      },
      "source": [
        "#Building a CNN model with two Conv layers and three Dense layers\n",
        "# Optimal Parameters for each of these layers are obtained from Keras-Tuner\n",
        "\n",
        "model = Sequential()\n",
        "model.add(Conv2D(40, (1, 1), activation='relu', strides=(1, 1),padding='same', input_shape=input_shape))\n",
        "model.add(Dropout(0.2))\n",
        "model.add(Conv2D(32, (5, 5), activation='relu', strides=(1, 1), padding='same'))\n",
        "model.add(Dropout(0.2))\n",
        "model.add(Conv2D(16, (1, 1), activation='relu', strides=(1, 1), padding='same'))\n",
        "model.add(Dropout(0.2))\n",
        "model.add(Flatten())\n",
        "model.add(Dense(64, activation='relu'))\n",
        "model.add(Dropout(0.2))\n",
        "model.add(Dense(16, activation='relu'))\n",
        "model.add(Dropout(0.2))\n",
        "model.add(Dense(12, activation='relu'))\n",
        "model.add(Dropout(0.1))\n",
        "model.add(Dense(5, activation='softmax'))\n",
        "\n",
        "model.compile(loss='categorical_crossentropy', \n",
        "     optimizer='adam',\n",
        "     metrics=['accuracy'])"
      ],
      "execution_count": null,
      "outputs": []
    },
    {
      "cell_type": "code",
      "metadata": {
        "id": "i1w6S3ByezHL"
      },
      "source": [
        "#Training the data for 30 epochs\n",
        "#Using Model checkpoints to avoid overfitting\n",
        "#Using a validation split of 0.2 from the train data\n",
        "\n",
        "checkpoint_filepath = '/tmp/checkpoint'\n",
        "\n",
        "model_checkpoint_callback = tf.keras.callbacks.ModelCheckpoint(\n",
        "    filepath=checkpoint_filepath,\n",
        "    save_weights_only=True,\n",
        "    monitor='val_accuracy',\n",
        "    mode='max',\n",
        "    save_best_only=True)\n",
        "\n",
        "history=model.fit(X_train,y_train,epochs=30,batch_size=16,\n",
        "          callbacks=[model_checkpoint_callback],\n",
        "          validation_split=0.2)\n",
        "\n",
        "model.load_weights(checkpoint_filepath)"
      ],
      "execution_count": null,
      "outputs": []
    },
    {
      "cell_type": "code",
      "metadata": {
        "id": "Iwb-eSJyezNY"
      },
      "source": [
        "#Ploting the variation in Train and Validation loss vs Epochs\n",
        "#Ploting the variation in Train and Validation accuracy vs Epochs\n",
        "\n",
        "plt.figure(figsize=(8,8))\n",
        "plt.title('Loss Value')\n",
        "plt.plot(history.history['loss'])\n",
        "plt.plot(history.history['val_loss'])\n",
        "plt.legend(['loss', 'val_loss'])\n",
        "print('loss:', history.history['loss'][-1])\n",
        "print('val_loss:', history.history['val_loss'][-1])\n",
        "plt.show()\n",
        "\n",
        "plt.figure(figsize=(8,8))\n",
        "plt.title('Accuracy')\n",
        "plt.plot(history.history['accuracy'])\n",
        "plt.plot(history.history['val_accuracy'])\n",
        "plt.legend(['accuracy', 'val_accuracy'])\n",
        "plt.show()\n",
        "\n",
        "print('Train accuracy at the end of 30 epochs:', history.history['accuracy'][-1])\n",
        "print('val_accuracy at the end of 30 epochs:', history.history['val_accuracy'][-1])\n"
      ],
      "execution_count": null,
      "outputs": []
    },
    {
      "cell_type": "code",
      "metadata": {
        "id": "Q-ZbhvO3ezTg"
      },
      "source": [
        "#Making predictions on the test set for the trtained model\n",
        "predictions = model.predict(X_test)\n",
        "#Identifying the class with highest probability of prediction\n",
        "predictions = np.argmax(predictions, axis=1)\n",
        "\n",
        "#Converting the 1*5 vectors back into interger form\n",
        "y_test_1 = one_hot_encoder.inverse_transform(y_test)"
      ],
      "execution_count": null,
      "outputs": []
    },
    {
      "cell_type": "code",
      "metadata": {
        "id": "BeL8dXckwADX",
        "colab": {
          "base_uri": "https://localhost:8080/"
        },
        "outputId": "25f59a82-9a28-42eb-ceab-0de7ea444f53"
      },
      "source": [
        "print('Accuracy of CNN model {}'.format(accuracy_score(y_test_1,predictions)))"
      ],
      "execution_count": null,
      "outputs": [
        {
          "output_type": "stream",
          "text": [
            "Accuracy of CNN model 0.7978187919463087\n"
          ],
          "name": "stdout"
        }
      ]
    },
    {
      "cell_type": "code",
      "metadata": {
        "colab": {
          "base_uri": "https://localhost:8080/",
          "height": 498
        },
        "id": "6wheiikNezes",
        "outputId": "f81c2258-c86f-4a9d-aee7-6e6748dd3b9b"
      },
      "source": [
        "#Printing the Confusion matrox to visualize the model predictions\n",
        "#Confusion matrix gives us an idea about the model capabilities\n",
        "cm = confusion_matrix(y_test_1, predictions)\n",
        "plt.figure(figsize=(8,8))\n",
        "sns.heatmap(cm, annot=True, xticklabels=label_encoder.classes_, yticklabels=label_encoder.classes_, fmt='d', cmap=plt.cm.Blues, cbar=False)\n",
        "plt.xlabel('Predicted Label')\n",
        "plt.ylabel('True Label')\n",
        "plt.show()"
      ],
      "execution_count": null,
      "outputs": [
        {
          "output_type": "display_data",
          "data": {
            "image/png": "[encoded data removed]",
            "text/plain": [
              "<Figure size 576x576 with 1 Axes>"
            ]
          },
          "metadata": {
            "tags": [],
            "needs_background": "light"
          }
        }
      ]
    },
    {
      "cell_type": "code",
      "metadata": {
        "id": "68lIWhGNt2Nj"
      },
      "source": [
        ""
      ],
      "execution_count": null,
      "outputs": []
    },
    {
      "cell_type": "markdown",
      "metadata": {
        "id": "E-1pYCWnQgTo"
      },
      "source": [
        "# Cut Mix algorithm"
      ]
    },
    {
      "cell_type": "code",
      "metadata": {
        "id": "sn6qoqvFt2RA"
      },
      "source": [
        "#Generation of random subspace within the input 2D array\n",
        "def rand_bbox(size, lamb):\n",
        "    \"\"\" Generate random subspace \n",
        "    Args:\n",
        "        - size: width,height of the subspace\n",
        "        - lamb: (lambda) cut ratio parameter\n",
        "    Returns:\n",
        "        - Bounding interval\n",
        "    \"\"\"\n",
        "    W = size[0]\n",
        "    H = size[1]\n",
        "    cut_rat = np.sqrt(1. - lamb)\n",
        "    cut_w = np.int(W * cut_rat)\n",
        "    cut_h = np.int(H * cut_rat)\n",
        "    \n",
        "\n",
        "    # uniform\n",
        "    cx = np.random.randint(W)\n",
        "    cy = np.random.randint(H)\n",
        "    bbx1 = np.clip(cx - cut_w // 2, 0, W)\n",
        "    bby1 = np.clip(cy - cut_h // 2, 0, H)\n",
        "    bbx2 = np.clip(cx + cut_w // 2, 0, W)\n",
        "    bby2 = np.clip(cy + cut_h // 2, 0, H)\n",
        "\n",
        "    \n",
        "    return bbx1, bby1, bbx2, bby2"
      ],
      "execution_count": null,
      "outputs": []
    },
    {
      "cell_type": "code",
      "metadata": {
        "id": "BUe3m3d4ezkN"
      },
      "source": [
        "def generate_cutmix_image(image_batch, image_batch_labels, beta):\n",
        "    # generate mixed sample\n",
        "    #We sample out the lambda parameter from a Beta distribution\n",
        "    lam = np.random.beta(beta, beta)\n",
        "    #We choose a random audio element to make perturbations with\n",
        "    rand_index = np.random.permutation(len(image_batch))\n",
        "    #Taget a - Label of original audio\n",
        "    #Target b- Label of Randomly picked audio\n",
        "    target_a = image_batch_labels\n",
        "    target_b = image_batch_labels[rand_index]\n",
        "    #We obtain the region to perturbed in the original audio\n",
        "    bbx1, bby1, bbx2, bby2 = rand_bbox(image_batch[0].shape, lam)\n",
        "\n",
        "    image_batch_updated = image_batch.copy()\n",
        "    image_batch_updated[:, bbx1:bbx2, bby1:bby2, :] = image_batch[rand_index, bbx1:bbx2, bby1:bby2, :]\n",
        "   \n",
        "    # adjusting lambda to exactly match pixel ratio\n",
        "    lam = 1 - ((bbx2 - bbx1) * (bby2 - bby1) / (image_batch.shape[1] * image_batch.shape[2]))\n",
        "    label = target_a * lam + target_b * (1. - lam)\n",
        "    \n",
        "    return image_batch_updated, label"
      ],
      "execution_count": null,
      "outputs": []
    },
    {
      "cell_type": "code",
      "metadata": {
        "id": "N7h35aRiezuK"
      },
      "source": [
        "def gendata(X_train,y_train,beta=1):\n",
        "  X_aug,y_aug=generate_cutmix_image(X_train,y_train,beta)\n",
        "  return(X_aug,y_aug)"
      ],
      "execution_count": null,
      "outputs": []
    },
    {
      "cell_type": "code",
      "metadata": {
        "id": "X5eqSZrbtncH"
      },
      "source": [
        "#Betas is a hyperparameter list\n",
        "#We sample out different betas to get different lambdas and different perturbed audio signals\n",
        "betas=[1,0.9,0.8]\n",
        "i=0\n",
        "for beta in betas:\n",
        "  X_train1,y_train1=gendata(X_train,y_train,beta)\n",
        "  if(i==0):\n",
        "    Xs=X_train1\n",
        "    ys=y_train1\n",
        "    i+=1\n",
        "  else:  \n",
        "    Xs=np.vstack([Xs,X_train1])\n",
        "    ys=np.vstack([ys,y_train1])"
      ],
      "execution_count": null,
      "outputs": []
    },
    {
      "cell_type": "code",
      "metadata": {
        "id": "k3rMTN6Xtr-I"
      },
      "source": [
        "#Augmenting the perturbed audio signals with the oroginal train data\n",
        "#This helps us increase the available train data by 3 folds\n",
        "X_train=np.vstack([X_train,Xs])\n",
        "y_train=np.vstack([y_train,ys])"
      ],
      "execution_count": null,
      "outputs": []
    },
    {
      "cell_type": "code",
      "metadata": {
        "id": "SAEpEYtEzqIf",
        "colab": {
          "base_uri": "https://localhost:8080/"
        },
        "outputId": "695f2eda-239b-4981-f639-fe5c7ee2b792"
      },
      "source": [
        "X_train.shape, y_train.shape"
      ],
      "execution_count": null,
      "outputs": [
        {
          "output_type": "execute_result",
          "data": {
            "text/plain": [
              "((19120, 275, 13, 1), (19120, 5))"
            ]
          },
          "metadata": {
            "tags": []
          },
          "execution_count": 31
        }
      ]
    },
    {
      "cell_type": "markdown",
      "metadata": {
        "id": "LasHRrWdR8m_"
      },
      "source": [
        "# CNN model with Cut Mix"
      ]
    },
    {
      "cell_type": "code",
      "metadata": {
        "id": "PAh5GtORztrC"
      },
      "source": [
        "#Building CNN model\n",
        "\n",
        "model_cutmix = Sequential()\n",
        "model_cutmix .add(Conv2D(40, (1, 1), activation='relu', input_shape=input_shape))\n",
        "model_cutmix .add(Dropout(0.2))\n",
        "model_cutmix .add(Conv2D(32, (5, 5), activation='relu'))\n",
        "model_cutmix .add(Dropout(0.2))\n",
        "model_cutmix .add(Conv2D(16, (1, 1), activation='relu'))\n",
        "model_cutmix .add(Dropout(0.2))\n",
        "model_cutmix .add(Flatten())\n",
        "model_cutmix .add(Dense(64, activation='relu'))\n",
        "model_cutmix .add(Dropout(0.2))\n",
        "model_cutmix .add(Dense(16, activation='relu'))\n",
        "model_cutmix .add(Dropout(0.2))\n",
        "model_cutmix .add(Dense(12, activation='relu'))\n",
        "model_cutmix .add(Dropout(0.1))\n",
        "model_cutmix .add(Dense(5, activation='softmax'))\n",
        "\n",
        "model_cutmix .compile(loss='categorical_crossentropy', \n",
        "     optimizer='adam',\n",
        "     metrics=['accuracy'])"
      ],
      "execution_count": null,
      "outputs": []
    },
    {
      "cell_type": "code",
      "metadata": {
        "id": "xK_lvVTo0BCR"
      },
      "source": [
        "#Training the data for 50 epochs\n",
        "#Using Model checkpoints to avoid overfitting\n",
        "#Using a validation split of 0.2 from the train data\n",
        "\n",
        "checkpoint_filepath = '/tmp/checkpoint'\n",
        "\n",
        "model_checkpoint_callback = tf.keras.callbacks.ModelCheckpoint(\n",
        "    filepath=checkpoint_filepath,\n",
        "    save_weights_only=True,\n",
        "    monitor='val_accuracy',\n",
        "    mode='max',\n",
        "    save_best_only=True)\n",
        "\n",
        "history_cutmix =model_cutmix .fit(X_train,y_train,epochs=50,batch_size=32,\n",
        "          callbacks=[model_checkpoint_callback],\n",
        "          #validation_split=0.2\n",
        "          validation_data=(X_test,y_test))\n",
        "\n",
        "model_cutmix .load_weights(checkpoint_filepath)"
      ],
      "execution_count": null,
      "outputs": []
    },
    {
      "cell_type": "code",
      "metadata": {
        "colab": {
          "base_uri": "https://localhost:8080/",
          "height": 1000
        },
        "id": "XsLRVM5N0ENM",
        "outputId": "608c288b-5342-43e6-f877-1d54b9d62254"
      },
      "source": [
        "#Ploting the variation in Train and Validation loss vs Epochs\n",
        "#Ploting the variation in Train and Validation accuracy vs Epochs\n",
        "\n",
        "plt.figure(figsize=(8,8))\n",
        "plt.title('Loss Value')\n",
        "plt.plot(history_cutmix .history['loss'])\n",
        "plt.plot(history_cutmix .history['val_loss'])\n",
        "plt.legend(['loss', 'val_loss'])\n",
        "print('loss:', history_cutmix .history['loss'][-1])\n",
        "print('val_loss:', history_cutmix .history['val_loss'][-1])\n",
        "plt.show()\n",
        "\n",
        "plt.figure(figsize=(8,8))\n",
        "plt.title('Accuracy')\n",
        "plt.plot(history_cutmix .history['accuracy'])\n",
        "plt.plot(history_cutmix .history['val_accuracy'])\n",
        "plt.legend(['accuracy', 'val_accuracy'])\n",
        "plt.show()\n",
        "\n",
        "print('Train accuracy at the end of 50 epochs:', history_cutmix .history['accuracy'][-1])\n",
        "print('val_accuracy at the end of 50 epochs:', history_cutmix .history['val_accuracy'][-1])\n"
      ],
      "execution_count": null,
      "outputs": [
        {
          "output_type": "stream",
          "text": [
            "loss: 0.48519957065582275\n",
            "val_loss: 0.5782576203346252\n"
          ],
          "name": "stdout"
        },
        {
          "output_type": "display_data",
          "data": {
            "image/png": "[encoded data removed]",
            "text/plain": [
              "<Figure size 576x576 with 1 Axes>"
            ]
          },
          "metadata": {
            "tags": [],
            "needs_background": "light"
          }
        },
        {
          "output_type": "display_data",
          "data": {
            "image/png": "[encoded data removed]",
            "text/plain": [
              "<Figure size 576x576 with 1 Axes>"
            ]
          },
          "metadata": {
            "tags": [],
            "needs_background": "light"
          }
        },
        {
          "output_type": "stream",
          "text": [
            "Train accuracy at the end of 50 epochs: 0.9224895238876343\n",
            "val_accuracy at the end of 50 epochs: 0.818561851978302\n"
          ],
          "name": "stdout"
        }
      ]
    },
    {
      "cell_type": "code",
      "metadata": {
        "id": "jFm1bH1OeAaK"
      },
      "source": [
        "#Defining function for determining Model performance for DL models\n",
        "def model_performance_DL(model,X_train,y_train,X_test,y_test,y_test_1):\n",
        "  #Model is fit on the train set and then used to predict ono Test set\n",
        "  y_pred = model.predict(X_test)\n",
        "  predicted=[]\n",
        "  predicted_prob=y_pred\n",
        "  for i in range(len(y_pred)):\n",
        "    predicted.append(np.argmax(y_pred[i]))\n",
        "    \n",
        "  \n",
        "  #Different metrics are used to check the model performance\n",
        "  #Weighted precision,recall,f1_score is reported for all models\n",
        "  classes = np.unique(y_test_1)\n",
        "  #y_test_array = pd.get_dummies(y_test, drop_first=False).values\n",
        "  y_test_array=y_test_1\n",
        "\n",
        "  accuracy = accuracy_score(y_test_1, predicted)\n",
        "  print(\"Accuracy:\",  round(accuracy,2))\n",
        "  #print(\"Auc:\", round(auc,2))\n",
        "  print(\"Detail:\")\n",
        "  print(classification_report(y_test_1, predicted))\n",
        "\n",
        "  ## Plot confusion matrix\n",
        "  cm = confusion_matrix(y_test_1, predicted)\n",
        "  cmn = cm.astype('float') / cm.sum(axis=1)[:, np.newaxis]\n",
        "  fig, ax = plt.subplots()\n",
        "  sns.heatmap(cmn, annot=True, fmt='.2f', ax=ax, cmap='YlGnBu', \n",
        "            )\n",
        "  ax.set(xlabel=\"Pred\", ylabel=\"True\", xticklabels=classes, \n",
        "       yticklabels=classes, title=\"Confusion matrix\")\n",
        "  plt.yticks(rotation=0)\n",
        "  "
      ],
      "execution_count": null,
      "outputs": []
    },
    {
      "cell_type": "code",
      "metadata": {
        "colab": {
          "base_uri": "https://localhost:8080/",
          "height": 533
        },
        "id": "Hl92GAlPel2R",
        "outputId": "4cf73f5c-33fc-47af-ce68-057088d2216d"
      },
      "source": [
        "model_performance_DL(model_cutmix,X_train,y_train,X_test,y_test,y_test_1)"
      ],
      "execution_count": null,
      "outputs": [
        {
          "output_type": "stream",
          "text": [
            "Accuracy: 0.84\n",
            "Detail:\n",
            "              precision    recall  f1-score   support\n",
            "\n",
            "           0       0.82      0.83      0.82       258\n",
            "           1       0.84      0.80      0.82       281\n",
            "           2       0.90      0.85      0.88       253\n",
            "           3       0.84      0.89      0.86       166\n",
            "           4       0.81      0.87      0.84       238\n",
            "\n",
            "    accuracy                           0.84      1196\n",
            "   macro avg       0.84      0.85      0.84      1196\n",
            "weighted avg       0.84      0.84      0.84      1196\n",
            "\n"
          ],
          "name": "stdout"
        },
        {
          "output_type": "display_data",
          "data": {
            "image/png": "[encoded data removed]",
            "text/plain": [
              "<Figure size 432x288 with 2 Axes>"
            ]
          },
          "metadata": {
            "tags": [],
            "needs_background": "light"
          }
        }
      ]
    },
    {
      "cell_type": "code",
      "metadata": {
        "id": "zA4pCSbq0dyU"
      },
      "source": [
        "#Making predictions on the test set for the trtained model\n",
        "predictions = model_cutmix.predict(X_test)\n",
        "#Identifying the class with highest probability of prediction\n",
        "predictions = np.argmax(predictions, axis=1)\n",
        "\n",
        "#Converting the 1*5 vectors back into interger form\n",
        "y_test_1 = one_hot_encoder.inverse_transform(y_test)"
      ],
      "execution_count": null,
      "outputs": []
    },
    {
      "cell_type": "code",
      "metadata": {
        "colab": {
          "base_uri": "https://localhost:8080/"
        },
        "id": "8j2Xw6dJvvYy",
        "outputId": "44d4f36b-de87-424f-d7b3-15230dc119d4"
      },
      "source": [
        "print('Accuracy Cut-Mix {}'.format(accuracy_score(y_test_1,predictions)))"
      ],
      "execution_count": null,
      "outputs": [
        {
          "output_type": "stream",
          "text": [
            "Accuracy Cut-Mix 0.8419732441471572\n"
          ],
          "name": "stdout"
        }
      ]
    },
    {
      "cell_type": "code",
      "metadata": {
        "colab": {
          "base_uri": "https://localhost:8080/"
        },
        "id": "WCNpG2LHhkAg",
        "outputId": "6b7a353e-8c0c-4b18-eb8e-53ae6f6c1d14"
      },
      "source": [
        "print(classification_report(y_test_1,predictions))"
      ],
      "execution_count": null,
      "outputs": [
        {
          "output_type": "stream",
          "text": [
            "              precision    recall  f1-score   support\n",
            "\n",
            "           0       0.82      0.83      0.82       258\n",
            "           1       0.84      0.80      0.82       281\n",
            "           2       0.90      0.85      0.88       253\n",
            "           3       0.84      0.89      0.86       166\n",
            "           4       0.81      0.87      0.84       238\n",
            "\n",
            "    accuracy                           0.84      1196\n",
            "   macro avg       0.84      0.85      0.84      1196\n",
            "weighted avg       0.84      0.84      0.84      1196\n",
            "\n"
          ],
          "name": "stdout"
        }
      ]
    },
    {
      "cell_type": "code",
      "metadata": {
        "id": "pm0MBoHNxm9k"
      },
      "source": [
        "#model_cutmix.save_weights('/content/best_weights_MIC_CNN_CUTMIX.h5')\n",
        "#model_cutmix.load_weights(\"/content/best_weights_MIC_CNN_CUTMIX.h5\")"
      ],
      "execution_count": null,
      "outputs": []
    },
    {
      "cell_type": "code",
      "metadata": {
        "colab": {
          "base_uri": "https://localhost:8080/",
          "height": 498
        },
        "id": "_xvYLZNb0oIy",
        "outputId": "ccee511d-ea22-46a5-aff0-c117775d985b"
      },
      "source": [
        "#Printing the Confusion matrox to visualize the model predictions\n",
        "#Confusion matrix gives us an idea about the model capabilities\n",
        "\n",
        "cm = confusion_matrix(y_test_1, predictions)\n",
        "plt.figure(figsize=(8,8))\n",
        "sns.heatmap(cm, annot=True, xticklabels=label_encoder.classes_, yticklabels=label_encoder.classes_, fmt='d', cmap=plt.cm.Blues, cbar=False)\n",
        "plt.xlabel('Predicted Label')\n",
        "plt.ylabel('True Label')\n",
        "plt.show()"
      ],
      "execution_count": null,
      "outputs": [
        {
          "output_type": "display_data",
          "data": {
            "image/png": "[encoded data removed]",
            "text/plain": [
              "<Figure size 576x576 with 1 Axes>"
            ]
          },
          "metadata": {
            "tags": [],
            "needs_background": "light"
          }
        }
      ]
    },
    {
      "cell_type": "markdown",
      "metadata": {
        "id": "44L8sK6sTUqk"
      },
      "source": [
        "# Model Pruning "
      ]
    },
    {
      "cell_type": "code",
      "metadata": {
        "id": "rxVnr7S92mtH"
      },
      "source": [
        "prune_low_magnitude = tfmot.sparsity.keras.prune_low_magnitude\n",
        "\n",
        "# Compute end step to finish pruning after 2 epochs.\n",
        "batch_size = 16\n",
        "epochs = 30\n",
        "validation_split = 0.2 # 20% of training set will be used for validation set. \n",
        "\n",
        "num_images = X_train.shape[0] * (1 - validation_split)\n",
        "end_step = np.ceil(num_images / batch_size).astype(np.int32) * epochs\n",
        "\n",
        "# Define model for pruning.\n",
        "pruning_params = {\n",
        "      'pruning_schedule': tfmot.sparsity.keras.PolynomialDecay(initial_sparsity=0.50,\n",
        "                                                               final_sparsity=0.80,\n",
        "                                                               begin_step=0,\n",
        "                                                               end_step=end_step)\n",
        "}\n",
        "\n",
        "model_for_pruning = prune_low_magnitude(model_cutmix, **pruning_params)\n",
        "\n",
        "# prune_low_magnitude requires a recompile.\n",
        "model_for_pruning.compile(optimizer='adam',\n",
        "              loss=tf.keras.losses.CategoricalCrossentropy(from_logits=True),\n",
        "              metrics=['accuracy'])\n",
        "\n",
        "model_for_pruning.summary()"
      ],
      "execution_count": null,
      "outputs": []
    },
    {
      "cell_type": "code",
      "metadata": {
        "colab": {
          "base_uri": "https://localhost:8080/"
        },
        "id": "Rs3c8qOy1YgZ",
        "outputId": "b50a81d2-8fea-4003-977d-28950d1fc7d9"
      },
      "source": [
        "model_cutmix.summary()"
      ],
      "execution_count": null,
      "outputs": [
        {
          "output_type": "stream",
          "text": [
            "Model: \"sequential_1\"\n",
            "_________________________________________________________________\n",
            "Layer (type)                 Output Shape              Param #   \n",
            "=================================================================\n",
            "conv2d_6 (Conv2D)            (None, 275, 13, 40)       400       \n",
            "_________________________________________________________________\n",
            "dropout_12 (Dropout)         (None, 275, 13, 40)       0         \n",
            "_________________________________________________________________\n",
            "conv2d_7 (Conv2D)            (None, 275, 13, 32)       1312      \n",
            "_________________________________________________________________\n",
            "dropout_13 (Dropout)         (None, 275, 13, 32)       0         \n",
            "_________________________________________________________________\n",
            "conv2d_8 (Conv2D)            (None, 275, 13, 16)       528       \n",
            "_________________________________________________________________\n",
            "dropout_14 (Dropout)         (None, 275, 13, 16)       0         \n",
            "_________________________________________________________________\n",
            "flatten_2 (Flatten)          (None, 57200)             0         \n",
            "_________________________________________________________________\n",
            "dense_8 (Dense)              (None, 64)                3660864   \n",
            "_________________________________________________________________\n",
            "dropout_15 (Dropout)         (None, 64)                0         \n",
            "_________________________________________________________________\n",
            "dense_9 (Dense)              (None, 16)                1040      \n",
            "_________________________________________________________________\n",
            "dropout_16 (Dropout)         (None, 16)                0         \n",
            "_________________________________________________________________\n",
            "dense_10 (Dense)             (None, 12)                204       \n",
            "_________________________________________________________________\n",
            "dropout_17 (Dropout)         (None, 12)                0         \n",
            "_________________________________________________________________\n",
            "dense_11 (Dense)             (None, 5)                 65        \n",
            "=================================================================\n",
            "Total params: 3,664,413\n",
            "Trainable params: 3,664,413\n",
            "Non-trainable params: 0\n",
            "_________________________________________________________________\n"
          ],
          "name": "stdout"
        }
      ]
    },
    {
      "cell_type": "code",
      "metadata": {
        "id": "795dMQyw3BMv"
      },
      "source": [
        "import tempfile\n",
        "logdir = tempfile.mkdtemp()\n",
        "callbacks = [\n",
        "  tfmot.sparsity.keras.UpdatePruningStep(),\n",
        "  tfmot.sparsity.keras.PruningSummaries(log_dir=logdir),\n",
        "]\n",
        "model_for_pruning.fit(X_train, y_train,\n",
        "                  batch_size=batch_size, epochs=epochs, validation_split=validation_split,\n",
        "                  callbacks=callbacks)"
      ],
      "execution_count": null,
      "outputs": []
    },
    {
      "cell_type": "code",
      "metadata": {
        "id": "XbO99XlB3f5N"
      },
      "source": [
        "#Making predictions on the test set for the trtained model\n",
        "predictions=model_for_pruning.predict(X_test)\n",
        "#Identifying the class with highest probability of prediction\n",
        "predictions = np.argmax(predictions, axis=1)\n",
        "#Converting the 1*5 vectors back into interger form\n",
        "y_test_1 = one_hot_encoder.inverse_transform(y_test)"
      ],
      "execution_count": null,
      "outputs": []
    },
    {
      "cell_type": "code",
      "metadata": {
        "colab": {
          "base_uri": "https://localhost:8080/"
        },
        "id": "lb211Mch1D0g",
        "outputId": "37e9712b-e31c-4063-f0eb-b118e0e93a92"
      },
      "source": [
        "print('Accuracy Pruned Model {}'.format(accuracy_score(y_test_1,predictions)))"
      ],
      "execution_count": null,
      "outputs": [
        {
          "output_type": "stream",
          "text": [
            "Accuracy Pruned Model 0.7986577181208053\n"
          ],
          "name": "stdout"
        }
      ]
    },
    {
      "cell_type": "code",
      "metadata": {
        "id": "HbWFBmQWUTy2",
        "colab": {
          "base_uri": "https://localhost:8080/",
          "height": 498
        },
        "outputId": "d31e51b3-774e-4971-9869-d08e96f39a67"
      },
      "source": [
        "#Printing the Confusion matrox to visualize the model predictions\n",
        "#Confusion matrix gives us an idea about the model capabilities\n",
        "\n",
        "cm = confusion_matrix(y_test_1, predictions)\n",
        "plt.figure(figsize=(8,8))\n",
        "sns.heatmap(cm, annot=True, xticklabels=label_encoder.classes_, yticklabels=label_encoder.classes_, fmt='d', cmap=plt.cm.Blues, cbar=False)\n",
        "plt.xlabel('Predicted Label')\n",
        "plt.ylabel('True Label')\n",
        "plt.show()"
      ],
      "execution_count": null,
      "outputs": [
        {
          "output_type": "display_data",
          "data": {
            "image/png": "[encoded data removed]",
            "text/plain": [
              "<Figure size 576x576 with 1 Axes>"
            ]
          },
          "metadata": {
            "tags": [],
            "needs_background": "light"
          }
        }
      ]
    },
    {
      "cell_type": "code",
      "metadata": {
        "colab": {
          "base_uri": "https://localhost:8080/"
        },
        "id": "2W8IzMh44H7w",
        "outputId": "9f36acfa-b8f5-44a1-b5e1-f0bb90a7ac8f"
      },
      "source": [
        "print(classification_report(y_test_1,predictions))"
      ],
      "execution_count": null,
      "outputs": [
        {
          "output_type": "stream",
          "text": [
            "              precision    recall  f1-score   support\n",
            "\n",
            "           0       0.90      0.61      0.73       270\n",
            "           1       0.69      0.85      0.77       273\n",
            "           2       0.84      0.88      0.86       250\n",
            "           3       0.84      0.81      0.82       191\n",
            "           4       0.79      0.86      0.82       208\n",
            "\n",
            "    accuracy                           0.80      1192\n",
            "   macro avg       0.81      0.80      0.80      1192\n",
            "weighted avg       0.81      0.80      0.80      1192\n",
            "\n"
          ],
          "name": "stdout"
        }
      ]
    },
    {
      "cell_type": "code",
      "metadata": {
        "id": "Fv7pCm704Cpy",
        "colab": {
          "base_uri": "https://localhost:8080/"
        },
        "outputId": "1f4f57f1-a4de-4203-86da-267c0fd127ff"
      },
      "source": [
        "_, model_for_pruning_accuracy = model_for_pruning.evaluate(X_test, y_test, verbose=0)\n",
        "_, model_accuracy = model.evaluate(X_test, y_test, verbose=0)\n",
        "_, model_cutmix_accuracy = model_cutmix.evaluate(X_test, y_test, verbose=0)\n",
        "\n",
        "print('Baseline Model test accuracy:', model_accuracy)\n",
        "print('Cut-Mix Model test accuracy:', model_cutmix_accuracy)\n",
        "print('Pruned test accuracy:', model_for_pruning_accuracy)"
      ],
      "execution_count": null,
      "outputs": [
        {
          "output_type": "stream",
          "text": [
            "Baseline Model test accuracy: 0.7978187799453735\n",
            "Cut-Mix Model test accuracy: 0.7986577153205872\n",
            "Pruned test accuracy: 0.7986577153205872\n"
          ],
          "name": "stdout"
        }
      ]
    },
    {
      "cell_type": "markdown",
      "metadata": {
        "id": "Q_9l1OvTUhZN"
      },
      "source": [
        "# Class Activation Maps "
      ]
    },
    {
      "cell_type": "code",
      "metadata": {
        "id": "YjwNEmqt1rR0"
      },
      "source": [
        "x=np.reshape(X_test[10],(1,X_test[0].shape[0],X_test[0].shape[1],X_test[0].shape[2]))"
      ],
      "execution_count": null,
      "outputs": []
    },
    {
      "cell_type": "code",
      "metadata": {
        "id": "XbLh5CZf59y6"
      },
      "source": [
        "def make_gradcam_heatmap(img_array, model):\n",
        "    # First, we create a model that maps the input image to the activations\n",
        "    # of the last conv layer\n",
        "    last_conv_layer = model.layers[5]\n",
        "    last_conv_layer_model = keras.Model(model.inputs, last_conv_layer.output)\n",
        "    \n",
        "    # Mark the classifying layers\n",
        "    classifier_layers = model.layers[-8:]\n",
        "\n",
        "    # Second, we create a model that maps the activations of the last conv\n",
        "    # layer to the final class predictions\n",
        "    classifier_input = keras.Input(shape=last_conv_layer.output.shape[1:])\n",
        "    x = classifier_input\n",
        "    for classifier_layer in classifier_layers:\n",
        "        x = classifier_layer(x)\n",
        "    classifier_model = keras.Model(classifier_input, x)\n",
        "\n",
        "    # Then, we compute the gradient of the top predicted class for our input image\n",
        "    # with respect to the activations of the last conv layer\n",
        "    with tf.GradientTape() as tape:\n",
        "        # Compute activations of the last conv layer and make the tape watch it\n",
        "        last_conv_layer_output = last_conv_layer_model(img_array)\n",
        "        tape.watch(last_conv_layer_output)\n",
        "        # Compute class predictions\n",
        "        preds = classifier_model(last_conv_layer_output)\n",
        "        top_pred_index = tf.argmax(preds[0])\n",
        "        top_class_channel = preds[:, top_pred_index]\n",
        "\n",
        "    # This is the gradient of the top predicted class with regard to\n",
        "    # the output feature map of the last conv layer\n",
        "    grads = tape.gradient(top_class_channel, last_conv_layer_output)\n",
        "\n",
        "    # This is a vector where each entry is the mean intensity of the gradient\n",
        "    # over a specific feature map channel\n",
        "    pooled_grads = tf.reduce_mean(grads, axis=(0, 1, 2))\n",
        "\n",
        "    # We multiply each channel in the feature map array\n",
        "    # by \"how important this channel is\" with regard to the top predicted class\n",
        "    last_conv_layer_output = last_conv_layer_output.numpy()[0]\n",
        "    pooled_grads = pooled_grads.numpy()\n",
        "    for i in range(pooled_grads.shape[-1]):\n",
        "        last_conv_layer_output[:, :, i] *= pooled_grads[i]\n",
        "\n",
        "    # The channel-wise mean of the resulting feature map\n",
        "    # is our heatmap of class activation\n",
        "    heatmap = np.mean(last_conv_layer_output, axis=-1)\n",
        "\n",
        "    # For visualization purpose, we will also normalize the heatmap between 0 & 1\n",
        "    heatmap = np.maximum(heatmap, 0) / np.max(heatmap)\n",
        "    return heatmap"
      ],
      "execution_count": null,
      "outputs": []
    },
    {
      "cell_type": "code",
      "metadata": {
        "colab": {
          "base_uri": "https://localhost:8080/",
          "height": 363
        },
        "id": "W-_vr5sbz79e",
        "outputId": "3dd1b129-fc7f-4571-f417-eca30ec439d4"
      },
      "source": [
        "import matplotlib.pyplot as plt\n",
        "import matplotlib.cm as cm\n",
        "import keras\n",
        "plt.figure(figsize=(6,6))\n",
        "for n in range(1):\n",
        "    #ax = plt.subplot(1,1,n+1)\n",
        "    #heatmap = make_gradcam_heatmap(x, model_for_pruning)\n",
        "    heatmap = make_gradcam_heatmap(x, model_cutmix)\n",
        "    # We rescale heatmap to a range 0-255\n",
        "    heatmap = np.uint8(255 * heatmap)\n",
        "    pred=np.argmax(model.predict(x))\n",
        "    #plt.imshow(np.matmul(heatmap.T,heatmap))\n",
        "    plt.imshow(heatmap[:13,:])\n",
        "    plt.title('Attention map across DCT Coefs')\n",
        "    plt.colorbar()\n",
        "    plt.xlabel('Head')\n",
        "    plt.ylabel('Layer')\n",
        "    plt.axis(\"off\")\n"
      ],
      "execution_count": null,
      "outputs": [
        {
          "output_type": "display_data",
          "data": {
            "image/png": "[encoded data removed]",
            "text/plain": [
              "<Figure size 432x432 with 2 Axes>"
            ]
          },
          "metadata": {
            "tags": [],
            "needs_background": "light"
          }
        }
      ]
    },
    {
      "cell_type": "markdown",
      "metadata": {
        "id": "XWn3t2ftWpyi"
      },
      "source": [
        "# Comparative Models"
      ]
    },
    {
      "cell_type": "code",
      "metadata": {
        "id": "gHOKvhZBWyOQ"
      },
      "source": [
        "from sklearn.ensemble import RandomForestClassifier\n",
        "from sklearn.tree import DecisionTreeClassifier\n",
        "from sklearn.linear_model import LogisticRegression\n",
        "from sklearn.svm import SVC\n",
        "from sklearn.naive_bayes import GaussianNB\n",
        "from sklearn.ensemble import AdaBoostClassifier\n",
        "from sklearn.ensemble import GradientBoostingClassifier"
      ],
      "execution_count": null,
      "outputs": []
    },
    {
      "cell_type": "code",
      "metadata": {
        "id": "2qTkthP_WyRm"
      },
      "source": [
        "#Splitting the data into train and test sets\n",
        "#Train- 0.8, Test -0.2\n",
        "#Random state is fixed to replicate the split in the data\n",
        "X_train, X_test, y_train, y_test = train_test_split(X, y, test_size=0.2, random_state=1)"
      ],
      "execution_count": null,
      "outputs": []
    },
    {
      "cell_type": "code",
      "metadata": {
        "id": "kvc5k5LnhCwY"
      },
      "source": [
        "import warnings\n",
        "warnings.filterwarnings(\"ignore\")\n",
        "\n",
        "from sklearn.metrics import f1_score"
      ],
      "execution_count": null,
      "outputs": []
    },
    {
      "cell_type": "code",
      "metadata": {
        "id": "IvnVJScSWyUQ"
      },
      "source": [
        "Y_train=one_hot_encoder.inverse_transform(y_train)\n",
        "Y_test=one_hot_encoder.inverse_transform(y_test)"
      ],
      "execution_count": null,
      "outputs": []
    },
    {
      "cell_type": "code",
      "metadata": {
        "id": "QTGSwRjAgGVv"
      },
      "source": [
        "x_train=np.reshape(X_train,(X_train.shape[0],-1))\n",
        "x_test=np.reshape(X_test,(X_test.shape[0],-1))"
      ],
      "execution_count": null,
      "outputs": []
    },
    {
      "cell_type": "code",
      "metadata": {
        "colab": {
          "base_uri": "https://localhost:8080/"
        },
        "id": "t6REdbevWyXE",
        "outputId": "7107edc5-4e04-43ea-d80d-708d71198f25"
      },
      "source": [
        "#Logistic Regression\n",
        "model=LogisticRegression(max_iter=300)\n",
        "model.fit(x_train,Y_train)\n",
        "y_pred=model.predict(x_test)\n",
        "\n",
        "print('Accuracy of Logistic Reg : {:.2f}'.format(accuracy_score(Y_test,y_pred)))\n",
        "print(classification_report(Y_test,y_pred))"
      ],
      "execution_count": null,
      "outputs": [
        {
          "output_type": "stream",
          "text": [
            "Accuracy of Logistic Reg : 0.68\n",
            "              precision    recall  f1-score   support\n",
            "\n",
            "           0       0.68      0.62      0.65       270\n",
            "           1       0.77      0.63      0.69       273\n",
            "           2       0.67      0.71      0.69       250\n",
            "           3       0.67      0.81      0.73       191\n",
            "           4       0.60      0.66      0.63       208\n",
            "\n",
            "    accuracy                           0.68      1192\n",
            "   macro avg       0.68      0.68      0.68      1192\n",
            "weighted avg       0.68      0.68      0.68      1192\n",
            "\n"
          ],
          "name": "stdout"
        }
      ]
    },
    {
      "cell_type": "code",
      "metadata": {
        "colab": {
          "base_uri": "https://localhost:8080/"
        },
        "id": "J1iLKHYdWyZ6",
        "outputId": "6955d3c1-872d-429d-91a2-d71243a8d97e"
      },
      "source": [
        "#NB\n",
        "model=GaussianNB()\n",
        "model.fit(x_train,Y_train)\n",
        "y_pred=model.predict(x_test)\n",
        "\n",
        "print('Accuracy of Naive Bayes Clf : {:.2f}'.format(accuracy_score(Y_test,y_pred)))\n",
        "print(classification_report(Y_test,y_pred))"
      ],
      "execution_count": null,
      "outputs": [
        {
          "output_type": "stream",
          "text": [
            "Accuracy of Naive Bayes Reg : 0.58\n",
            "              precision    recall  f1-score   support\n",
            "\n",
            "           0       0.69      0.37      0.48       270\n",
            "           1       0.63      0.46      0.53       273\n",
            "           2       0.75      0.67      0.71       250\n",
            "           3       0.49      0.76      0.60       191\n",
            "           4       0.45      0.71      0.55       208\n",
            "\n",
            "    accuracy                           0.58      1192\n",
            "   macro avg       0.60      0.60      0.58      1192\n",
            "weighted avg       0.62      0.58      0.57      1192\n",
            "\n"
          ],
          "name": "stdout"
        }
      ]
    },
    {
      "cell_type": "code",
      "metadata": {
        "colab": {
          "base_uri": "https://localhost:8080/"
        },
        "id": "TzNfABLaWydE",
        "outputId": "e762604c-cf94-49fd-d9e5-29d7a0a5809e"
      },
      "source": [
        "#SVM \n",
        "model=SVC(kernel='linear')\n",
        "model.fit(x_train,Y_train)\n",
        "y_pred=model.predict(x_test)\n",
        "\n",
        "print('Accuracy of SVM Clf: {:.2f}'.format(accuracy_score(Y_test,y_pred)))\n",
        "print(classification_report(Y_test,y_pred))"
      ],
      "execution_count": null,
      "outputs": [
        {
          "output_type": "stream",
          "text": [
            "Accuracy of SVM Clf: 0.71\n",
            "              precision    recall  f1-score   support\n",
            "\n",
            "           0       0.68      0.71      0.70       270\n",
            "           1       0.77      0.67      0.71       273\n",
            "           2       0.72      0.69      0.70       250\n",
            "           3       0.74      0.82      0.78       191\n",
            "           4       0.63      0.66      0.64       208\n",
            "\n",
            "    accuracy                           0.71      1192\n",
            "   macro avg       0.71      0.71      0.71      1192\n",
            "weighted avg       0.71      0.71      0.71      1192\n",
            "\n"
          ],
          "name": "stdout"
        }
      ]
    },
    {
      "cell_type": "code",
      "metadata": {
        "colab": {
          "base_uri": "https://localhost:8080/"
        },
        "id": "n-KCAcKVWyfg",
        "outputId": "00c0d834-33dd-4174-fc72-e04432dc0014"
      },
      "source": [
        "#DT Clf\n",
        "model=DecisionTreeClassifier()\n",
        "model.fit(x_train,Y_train)\n",
        "y_pred=model.predict(x_test)\n",
        "\n",
        "print('Accuracy of Decision Tree Clf: {:.2f}'.format(accuracy_score(Y_test,y_pred)))\n",
        "print(classification_report(Y_test,y_pred))"
      ],
      "execution_count": null,
      "outputs": [
        {
          "output_type": "stream",
          "text": [
            "Accuracy of Decision Tree Clf: 0.64\n",
            "              precision    recall  f1-score   support\n",
            "\n",
            "           0       0.62      0.65      0.63       270\n",
            "           1       0.63      0.64      0.64       273\n",
            "           2       0.71      0.65      0.68       250\n",
            "           3       0.65      0.61      0.63       191\n",
            "           4       0.58      0.63      0.61       208\n",
            "\n",
            "    accuracy                           0.64      1192\n",
            "   macro avg       0.64      0.63      0.64      1192\n",
            "weighted avg       0.64      0.64      0.64      1192\n",
            "\n"
          ],
          "name": "stdout"
        }
      ]
    },
    {
      "cell_type": "code",
      "metadata": {
        "colab": {
          "base_uri": "https://localhost:8080/"
        },
        "id": "S5fWJ-Ujk3gg",
        "outputId": "55aa0901-bce5-413a-f56e-bc81cec994b6"
      },
      "source": [
        "#Random Forest\n",
        "model=RandomForestClassifier(n_estimators=50)\n",
        "model.fit(x_train,Y_train)\n",
        "y_pred=model.predict(x_test)\n",
        "\n",
        "print('Accuracy of RF Clf: {:.2f}'.format(accuracy_score(Y_test,y_pred)))\n",
        "print(classification_report(Y_test,y_pred))"
      ],
      "execution_count": null,
      "outputs": [
        {
          "output_type": "stream",
          "text": [
            "Accuracy of SVM Clf: 0.82\n",
            "              precision    recall  f1-score   support\n",
            "\n",
            "           0       0.81      0.79      0.80       270\n",
            "           1       0.82      0.80      0.81       273\n",
            "           2       0.84      0.89      0.87       250\n",
            "           3       0.85      0.85      0.85       191\n",
            "           4       0.80      0.80      0.80       208\n",
            "\n",
            "    accuracy                           0.82      1192\n",
            "   macro avg       0.82      0.83      0.82      1192\n",
            "weighted avg       0.82      0.82      0.82      1192\n",
            "\n"
          ],
          "name": "stdout"
        }
      ]
    },
    {
      "cell_type": "code",
      "metadata": {
        "colab": {
          "base_uri": "https://localhost:8080/"
        },
        "id": "yadafN7ok3mV",
        "outputId": "011889aa-cf8a-424d-a4c7-9da6719afe9e"
      },
      "source": [
        "# Adaboost\n",
        "model=AdaBoostClassifier(n_estimators=100)\n",
        "model.fit(x_train,Y_train)\n",
        "y_pred=model.predict(x_test)\n",
        "\n",
        "print('Accuracy of Adaboost Clf: {:.2f}'.format(accuracy_score(Y_test,y_pred)))\n",
        "print(classification_report(Y_test,y_pred))"
      ],
      "execution_count": null,
      "outputs": [
        {
          "output_type": "stream",
          "text": [
            "Accuracy of Adaboost Clf: 0.62\n",
            "              precision    recall  f1-score   support\n",
            "\n",
            "           0       0.54      0.44      0.48       270\n",
            "           1       0.66      0.69      0.68       273\n",
            "           2       0.73      0.71      0.72       250\n",
            "           3       0.58      0.68      0.63       191\n",
            "           4       0.59      0.63      0.61       208\n",
            "\n",
            "    accuracy                           0.62      1192\n",
            "   macro avg       0.62      0.63      0.62      1192\n",
            "weighted avg       0.62      0.62      0.62      1192\n",
            "\n"
          ],
          "name": "stdout"
        }
      ]
    },
    {
      "cell_type": "markdown",
      "metadata": {
        "id": "uDo3Qg6RxY_y"
      },
      "source": [
        "# Hyperparameter Tuning"
      ]
    },
    {
      "cell_type": "code",
      "metadata": {
        "id": "sCJ3OP3A6Vxc"
      },
      "source": [
        "! pip install keras-tuner"
      ],
      "execution_count": null,
      "outputs": []
    },
    {
      "cell_type": "code",
      "metadata": {
        "id": "bmJhnSNB6V6j"
      },
      "source": [
        "import tensorflow as tf\n",
        "from tensorflow import keras\n",
        "\n",
        "#Building model\n",
        "from keras.layers import Dense,LeakyReLU,ELU,PReLU,Dropout,Conv2D\n",
        "from keras.models import Sequential"
      ],
      "execution_count": null,
      "outputs": []
    },
    {
      "cell_type": "code",
      "metadata": {
        "id": "Ako9_4cKxcgj"
      },
      "source": [
        "def  build_model(hp):\n",
        "  model=keras.Sequential([\n",
        "                          keras.layers.Conv2D(filters=hp.Int('Conv_1_filter',min_value=16,max_value=32,step=8),\n",
        "                                              kernel_size=hp.Choice('Convo_1_kernels',values=[1,3,5]),\n",
        "                                              activation='relu',\n",
        "                                              input_shape=input_shape),\n",
        "                           keras.layers.Dropout(0.2),\n",
        "                           keras.layers.Conv2D(filters=hp.Int('Conv_2_filter',min_value=8,max_value=16,step=4),\n",
        "                                              kernel_size=hp.Choice('Convo_2_kernels',values=[1,3,5]),\n",
        "                                              activation='relu'),\n",
        "                           keras.layers.Dropout(0.2),\n",
        "                           keras.layers.Conv2D(filters=hp.Int('Conv_3_filter',min_value=4,max_value=8,step=2),\n",
        "                                              kernel_size=hp.Choice('Convo_3_kernels',values=[1,3,5]),\n",
        "                                              activation='relu'),\n",
        "                          keras.layers.Dropout(0.2),\n",
        "                          keras.layers.Flatten(),\n",
        "                          keras.layers.Dense(units=hp.Int('Dense_1_units',min_value=16,max_value=32,step=8),\n",
        "                                             activation='relu'\n",
        "                                             ),\n",
        "                          keras.layers.Dropout(0.2),\n",
        "                          keras.layers.Dense(units=hp.Int('Dense_2_units',min_value=8,max_value=16,step=4),\n",
        "                                             activation='relu'\n",
        "                                             ),\n",
        "                          keras.layers.Dropout(0.2),\n",
        "                          keras.layers.Dense(units=hp.Int('Dense_3_units',min_value=4,max_value=8,step=2),\n",
        "                                             activation='relu'\n",
        "                                             ),\n",
        "                          keras.layers.Dropout(0.1),\n",
        "                          keras.layers.Dense(units=5,activation='softmax')\n",
        "                          \n",
        "                                             ])\n",
        "  model .compile(loss='categorical_crossentropy',optimizer='adam',metrics=['accuracy'])\n",
        "  model.summary()\n",
        "  return(model)\n",
        "\n",
        "from kerastuner import RandomSearch\n",
        "import kerastuner.engine.hyperparameters as Hyperparameters\n",
        "\n",
        "tuner_search=RandomSearch(build_model,\n",
        "                          objective='val_accuracy',\n",
        "                          max_trials=10\n",
        "                          )\n",
        "tuner_search.search(X_train,y_train,epochs=10,validation_split=0.1)\n",
        "model=tuner_search.get_best_models(num_models=1)[0]\n",
        "model.summary()\n",
        "model.fit(X_train,y_train,epochs=50,validation_split=0.2,initial_epoch=10)\n",
        "\n",
        "preds_y=model.predict(X_test)"
      ],
      "execution_count": null,
      "outputs": []
    },
    {
      "cell_type": "code",
      "metadata": {
        "id": "orpFsfL0-LXs"
      },
      "source": [
        "#Making predictions on the test set for the trtained model\n",
        "predictions = model.predict(X_test)\n",
        "#Identifying the class with highest probability of prediction\n",
        "predictions = np.argmax(predictions, axis=1)\n",
        "\n",
        "#Converting the 1*5 vectors back into interger form\n",
        "y_test_1 = one_hot_encoder.inverse_transform(y_test)"
      ],
      "execution_count": null,
      "outputs": []
    },
    {
      "cell_type": "code",
      "metadata": {
        "colab": {
          "base_uri": "https://localhost:8080/"
        },
        "id": "oBFNo22bBheZ",
        "outputId": "3541d609-38ba-4149-aa36-3550c58cb763"
      },
      "source": [
        "print('Accuracy of CNN model {}'.format(accuracy_score(y_test_1,predictions)))"
      ],
      "execution_count": null,
      "outputs": [
        {
          "output_type": "stream",
          "text": [
            "Accuracy of CNN model 0.8352842809364549\n"
          ],
          "name": "stdout"
        }
      ]
    },
    {
      "cell_type": "code",
      "metadata": {
        "id": "CqixHEmeCZoj"
      },
      "source": [
        ""
      ],
      "execution_count": null,
      "outputs": []
    },
    {
      "cell_type": "markdown",
      "metadata": {
        "id": "sFh9b3p55isl"
      },
      "source": [
        "# Ablation study"
      ]
    },
    {
      "cell_type": "code",
      "metadata": {
        "id": "85Z0frCl5nLH"
      },
      "source": [
        "#Building CNN model\n",
        "#Commenting out unwanted columns to note down the results only with required layers\n",
        "\n",
        "model_cutmix = Sequential()\n",
        "# model_cutmix .add(Conv2D(40, (3, 3), activation='relu', strides=(1, 1),padding='same', input_shape=input_shape))\n",
        "# model_cutmix .add(Dropout(0.2))\n",
        "# model_cutmix .add(Conv2D(32, (1, 1), activation='relu', strides=(1, 1),padding='same'))\n",
        "# model_cutmix .add(Dropout(0.2))\n",
        "# model_cutmix .add(Conv2D(16, (1, 1), activation='relu', strides=(1, 1),padding='same'))\n",
        "# model_cutmix .add(Dropout(0.2))\n",
        "# model_cutmix .add(Flatten())\n",
        "model_cutmix .add(Dense(64, activation='relu',input_shape=(3575,)))\n",
        "model_cutmix .add(Dropout(0.2))\n",
        "model_cutmix .add(Dense(16, activation='relu'))\n",
        "model_cutmix .add(Dropout(0.2))\n",
        "model_cutmix .add(Dense(12, activation='relu'))\n",
        "model_cutmix .add(Dropout(0.1))\n",
        "model_cutmix .add(Dense(5, activation='softmax'))\n",
        "\n",
        "model_cutmix .compile(loss='categorical_crossentropy', \n",
        "     optimizer='adam',\n",
        "     metrics=['accuracy'])"
      ],
      "execution_count": null,
      "outputs": []
    },
    {
      "cell_type": "code",
      "metadata": {
        "colab": {
          "base_uri": "https://localhost:8080/"
        },
        "id": "L25bK6th5o0j",
        "outputId": "4d18d27e-8332-4dd0-bd99-1a822d1656ab"
      },
      "source": [
        "#Training the data for 50 epochs\n",
        "#Using Model checkpoints to avoid overfitting\n",
        "#Using a validation split of 0.2 from the train data\n",
        "\n",
        "checkpoint_filepath = '/tmp/checkpoint'\n",
        "\n",
        "model_checkpoint_callback = tf.keras.callbacks.ModelCheckpoint(\n",
        "    filepath=checkpoint_filepath,\n",
        "    save_weights_only=True,\n",
        "    monitor='val_accuracy',\n",
        "    mode='max',\n",
        "    save_best_only=True)\n",
        "\n",
        "history_cutmix =model_cutmix .fit(np.reshape(X_train,(X_train.shape[0],-1)),y_train,epochs=50,batch_size=32,\n",
        "          callbacks=[model_checkpoint_callback],\n",
        "          #validation_split=0.2\n",
        "          validation_data=(np.reshape(X_test,(X_test.shape[0],-1)),y_test))\n",
        "\n",
        "model_cutmix .load_weights(checkpoint_filepath)"
      ],
      "execution_count": null,
      "outputs": [
        {
          "output_type": "stream",
          "text": [
            "Epoch 1/50\n",
            "598/598 [==============================] - 3s 4ms/step - loss: 1.5951 - accuracy: 0.2568 - val_loss: 1.4029 - val_accuracy: 0.3186\n",
            "Epoch 2/50\n",
            "598/598 [==============================] - 2s 3ms/step - loss: 1.4739 - accuracy: 0.3203 - val_loss: 1.3299 - val_accuracy: 0.3746\n",
            "Epoch 3/50\n",
            "598/598 [==============================] - 2s 3ms/step - loss: 1.4515 - accuracy: 0.3429 - val_loss: 1.3788 - val_accuracy: 0.3612\n",
            "Epoch 4/50\n",
            "598/598 [==============================] - 2s 3ms/step - loss: 1.4288 - accuracy: 0.3525 - val_loss: 1.3064 - val_accuracy: 0.4197\n",
            "Epoch 5/50\n",
            "598/598 [==============================] - 2s 3ms/step - loss: 1.4233 - accuracy: 0.3576 - val_loss: 1.3721 - val_accuracy: 0.3620\n",
            "Epoch 6/50\n",
            "598/598 [==============================] - 2s 3ms/step - loss: 1.4319 - accuracy: 0.3508 - val_loss: 1.3335 - val_accuracy: 0.3896\n",
            "Epoch 7/50\n",
            "598/598 [==============================] - 2s 3ms/step - loss: 1.4244 - accuracy: 0.3552 - val_loss: 1.2996 - val_accuracy: 0.4331\n",
            "Epoch 8/50\n",
            "598/598 [==============================] - 2s 3ms/step - loss: 1.4204 - accuracy: 0.3541 - val_loss: 1.3010 - val_accuracy: 0.4122\n",
            "Epoch 9/50\n",
            "598/598 [==============================] - 2s 3ms/step - loss: 1.4189 - accuracy: 0.3564 - val_loss: 1.2931 - val_accuracy: 0.4206\n",
            "Epoch 10/50\n",
            "598/598 [==============================] - 2s 3ms/step - loss: 1.4177 - accuracy: 0.3532 - val_loss: 1.2933 - val_accuracy: 0.4398\n",
            "Epoch 11/50\n",
            "598/598 [==============================] - 2s 3ms/step - loss: 1.4204 - accuracy: 0.3569 - val_loss: 1.3005 - val_accuracy: 0.4214\n",
            "Epoch 12/50\n",
            "598/598 [==============================] - 2s 3ms/step - loss: 1.4190 - accuracy: 0.3561 - val_loss: 1.3002 - val_accuracy: 0.4415\n",
            "Epoch 13/50\n",
            "598/598 [==============================] - 2s 3ms/step - loss: 1.4087 - accuracy: 0.3585 - val_loss: 1.2918 - val_accuracy: 0.4406\n",
            "Epoch 14/50\n",
            "598/598 [==============================] - 2s 3ms/step - loss: 1.4046 - accuracy: 0.3634 - val_loss: 1.3644 - val_accuracy: 0.3436\n",
            "Epoch 15/50\n",
            "598/598 [==============================] - 2s 3ms/step - loss: 1.4116 - accuracy: 0.3639 - val_loss: 1.3132 - val_accuracy: 0.4038\n",
            "Epoch 16/50\n",
            "598/598 [==============================] - 2s 3ms/step - loss: 1.4037 - accuracy: 0.3659 - val_loss: 1.2843 - val_accuracy: 0.4540\n",
            "Epoch 17/50\n",
            "598/598 [==============================] - 2s 3ms/step - loss: 1.4069 - accuracy: 0.3707 - val_loss: 1.3410 - val_accuracy: 0.3570\n",
            "Epoch 18/50\n",
            "598/598 [==============================] - 2s 3ms/step - loss: 1.4132 - accuracy: 0.3569 - val_loss: 1.2786 - val_accuracy: 0.4548\n",
            "Epoch 19/50\n",
            "598/598 [==============================] - 2s 3ms/step - loss: 1.4057 - accuracy: 0.3662 - val_loss: 1.2944 - val_accuracy: 0.4130\n",
            "Epoch 20/50\n",
            "598/598 [==============================] - 2s 3ms/step - loss: 1.4066 - accuracy: 0.3631 - val_loss: 1.3067 - val_accuracy: 0.4139\n",
            "Epoch 21/50\n",
            "598/598 [==============================] - 2s 3ms/step - loss: 1.4198 - accuracy: 0.3542 - val_loss: 1.3349 - val_accuracy: 0.3696\n",
            "Epoch 22/50\n",
            "598/598 [==============================] - 2s 3ms/step - loss: 1.4017 - accuracy: 0.3629 - val_loss: 1.2961 - val_accuracy: 0.4147\n",
            "Epoch 23/50\n",
            "598/598 [==============================] - 2s 3ms/step - loss: 1.4052 - accuracy: 0.3674 - val_loss: 1.3332 - val_accuracy: 0.3813\n",
            "Epoch 24/50\n",
            "598/598 [==============================] - 2s 3ms/step - loss: 1.4175 - accuracy: 0.3587 - val_loss: 1.2821 - val_accuracy: 0.4498\n",
            "Epoch 25/50\n",
            "598/598 [==============================] - 2s 3ms/step - loss: 1.4067 - accuracy: 0.3692 - val_loss: 1.3587 - val_accuracy: 0.3612\n",
            "Epoch 26/50\n",
            "598/598 [==============================] - 2s 3ms/step - loss: 1.4025 - accuracy: 0.3616 - val_loss: 1.2930 - val_accuracy: 0.4398\n",
            "Epoch 27/50\n",
            "598/598 [==============================] - 2s 3ms/step - loss: 1.3989 - accuracy: 0.3681 - val_loss: 1.2753 - val_accuracy: 0.4164\n",
            "Epoch 28/50\n",
            "598/598 [==============================] - 2s 3ms/step - loss: 1.3981 - accuracy: 0.3790 - val_loss: 1.3381 - val_accuracy: 0.3595\n",
            "Epoch 29/50\n",
            "598/598 [==============================] - 2s 3ms/step - loss: 1.4039 - accuracy: 0.3660 - val_loss: 1.2813 - val_accuracy: 0.4398\n",
            "Epoch 30/50\n",
            "598/598 [==============================] - 2s 3ms/step - loss: 1.4034 - accuracy: 0.3723 - val_loss: 1.2845 - val_accuracy: 0.4339\n",
            "Epoch 31/50\n",
            "598/598 [==============================] - 2s 3ms/step - loss: 1.3914 - accuracy: 0.3829 - val_loss: 1.3454 - val_accuracy: 0.3495\n",
            "Epoch 32/50\n",
            "598/598 [==============================] - 2s 3ms/step - loss: 1.4073 - accuracy: 0.3739 - val_loss: 1.3113 - val_accuracy: 0.4156\n",
            "Epoch 33/50\n",
            "598/598 [==============================] - 2s 3ms/step - loss: 1.4022 - accuracy: 0.3716 - val_loss: 1.3072 - val_accuracy: 0.3754\n",
            "Epoch 34/50\n",
            "598/598 [==============================] - 2s 3ms/step - loss: 1.3961 - accuracy: 0.3765 - val_loss: 1.3199 - val_accuracy: 0.4047\n",
            "Epoch 35/50\n",
            "598/598 [==============================] - 2s 3ms/step - loss: 1.4045 - accuracy: 0.3702 - val_loss: 1.2891 - val_accuracy: 0.4523\n",
            "Epoch 36/50\n",
            "598/598 [==============================] - 2s 3ms/step - loss: 1.3990 - accuracy: 0.3768 - val_loss: 1.3193 - val_accuracy: 0.3704\n",
            "Epoch 37/50\n",
            "598/598 [==============================] - 2s 3ms/step - loss: 1.4052 - accuracy: 0.3743 - val_loss: 1.2857 - val_accuracy: 0.4507\n",
            "Epoch 38/50\n",
            "598/598 [==============================] - 2s 3ms/step - loss: 1.3847 - accuracy: 0.3808 - val_loss: 1.3888 - val_accuracy: 0.3712\n",
            "Epoch 39/50\n",
            "598/598 [==============================] - 2s 3ms/step - loss: 1.3882 - accuracy: 0.3810 - val_loss: 1.3082 - val_accuracy: 0.4281\n",
            "Epoch 40/50\n",
            "598/598 [==============================] - 2s 3ms/step - loss: 1.4032 - accuracy: 0.3794 - val_loss: 1.2750 - val_accuracy: 0.4674\n",
            "Epoch 41/50\n",
            "598/598 [==============================] - 2s 3ms/step - loss: 1.4006 - accuracy: 0.3785 - val_loss: 1.3499 - val_accuracy: 0.4055\n",
            "Epoch 42/50\n",
            "598/598 [==============================] - 2s 3ms/step - loss: 1.3955 - accuracy: 0.3890 - val_loss: 1.3454 - val_accuracy: 0.4064\n",
            "Epoch 43/50\n",
            "598/598 [==============================] - 2s 3ms/step - loss: 1.3914 - accuracy: 0.3820 - val_loss: 1.3874 - val_accuracy: 0.3871\n",
            "Epoch 44/50\n",
            "598/598 [==============================] - 2s 3ms/step - loss: 1.3892 - accuracy: 0.3867 - val_loss: 1.3302 - val_accuracy: 0.4239\n",
            "Epoch 45/50\n",
            "598/598 [==============================] - 2s 3ms/step - loss: 1.3981 - accuracy: 0.3845 - val_loss: 1.3051 - val_accuracy: 0.4281\n",
            "Epoch 46/50\n",
            "598/598 [==============================] - 2s 3ms/step - loss: 1.3901 - accuracy: 0.3800 - val_loss: 1.3632 - val_accuracy: 0.4022\n",
            "Epoch 47/50\n",
            "598/598 [==============================] - 2s 3ms/step - loss: 1.3890 - accuracy: 0.3846 - val_loss: 1.2831 - val_accuracy: 0.4640\n",
            "Epoch 48/50\n",
            "598/598 [==============================] - 2s 3ms/step - loss: 1.4023 - accuracy: 0.3816 - val_loss: 1.3681 - val_accuracy: 0.4030\n",
            "Epoch 49/50\n",
            "598/598 [==============================] - 2s 3ms/step - loss: 1.3975 - accuracy: 0.3799 - val_loss: 1.3480 - val_accuracy: 0.4089\n",
            "Epoch 50/50\n",
            "598/598 [==============================] - 2s 3ms/step - loss: 1.3976 - accuracy: 0.3827 - val_loss: 1.2596 - val_accuracy: 0.4699\n"
          ],
          "name": "stdout"
        },
        {
          "output_type": "execute_result",
          "data": {
            "text/plain": [
              "<tensorflow.python.training.tracking.util.CheckpointLoadStatus at 0x7f12aa71d190>"
            ]
          },
          "metadata": {
            "tags": []
          },
          "execution_count": 150
        }
      ]
    },
    {
      "cell_type": "code",
      "metadata": {
        "id": "g2fSpUrNHbHb"
      },
      "source": [
        "#np.reshape(X_train,(X_train.shape[0],-1))"
      ],
      "execution_count": null,
      "outputs": []
    },
    {
      "cell_type": "code",
      "metadata": {
        "id": "KiZ5-BWq9SQD"
      },
      "source": [
        "#Making predictions on the test set for the trtained model\n",
        "#predictions = model_cutmix.predict(X_test)\n",
        "predictions = model_cutmix.predict(np.reshape(X_test,(X_test.shape[0],-1)))\n",
        "#Identifying the class with highest probability of prediction\n",
        "predictions = np.argmax(predictions, axis=1)\n",
        "\n",
        "#Converting the 1*5 vectors back into interger form\n",
        "y_test_1 = one_hot_encoder.inverse_transform(y_test)"
      ],
      "execution_count": null,
      "outputs": []
    },
    {
      "cell_type": "code",
      "metadata": {
        "id": "3i1FcIox9WoT"
      },
      "source": [
        "print('Accuracy of CNN model {}'.format(accuracy_score(y_test_1,predictions)))"
      ],
      "execution_count": null,
      "outputs": []
    },
    {
      "cell_type": "code",
      "metadata": {
        "id": "WQCV2Fmt-aBj"
      },
      "source": [
        ""
      ],
      "execution_count": null,
      "outputs": []
    }
  ]
}